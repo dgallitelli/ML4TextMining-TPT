{
 "cells": [
  {
   "cell_type": "markdown",
   "metadata": {},
   "source": [
    "# TP4 - Non-negative Matrix Factorization\n",
    "The goal is to study the use of nonnegative matrix factorisation (NMF) for topic extraction from a dataset of text documents. The rationale is to interpret each extracted NMF component as being associated with a specific topic. \n",
    "\n",
    "Study and test the following script (introduced  on [scikit](http://scikit-learn.org/stable/auto_examples/applications/plot_topics_extraction_with_nmf_lda.html))\n",
    "\n",
    "1. Test and comment on the effect of varying the initialisation, especially using random\n",
    "nonnegative values as initial guesses (for W and H coefficients, using the notations introduced\n",
    "during the lecture).\n",
    "2. Compare and comment on the difference between the results obtained with `2 cost compared\n",
    "to the generalised Kullback-Liebler cost.\n",
    "3. Test and comment on the results obtained using a simpler term-frequency representation\n",
    "as input (as opposed to the TF-IDF representation considered in the code above) when\n",
    "considering the Kullback-Liebler cost."
   ]
  }
 ],
 "metadata": {
  "kernelspec": {
   "display_name": "Python 3",
   "language": "python",
   "name": "python3"
  },
  "language_info": {
   "codemirror_mode": {
    "name": "ipython",
    "version": 3
   },
   "file_extension": ".py",
   "mimetype": "text/x-python",
   "name": "python",
   "nbconvert_exporter": "python",
   "pygments_lexer": "ipython3",
   "version": "3.5.3"
  }
 },
 "nbformat": 4,
 "nbformat_minor": 2
}
