{
 "cells": [
  {
   "cell_type": "markdown",
   "metadata": {},
   "source": [
    "# TP4 - Non-negative Matrix Factorization\n",
    "The goal is to study the use of nonnegative matrix factorisation (NMF) for topic extraction from a dataset of text documents. The rationale is to interpret each extracted NMF component as being associated with a specific topic. \n",
    "\n",
    "Study and test the following script (introduced  on [scikit](http://scikit-learn.org/stable/auto_examples/applications/plot_topics_extraction_with_nmf_lda.html))\n",
    "\n",
    "1. Test and comment on the effect of varying the initialisation, especially using random\n",
    "nonnegative values as initial guesses (for W and H coefficients, using the notations introduced\n",
    "during the lecture).\n",
    "2. Compare and comment on the difference between the results obtained with `2 cost compared\n",
    "to the generalised Kullback-Liebler cost.\n",
    "3. Test and comment on the results obtained using a simpler term-frequency representation\n",
    "as input (as opposed to the TF-IDF representation considered in the code above) when\n",
    "considering the Kullback-Liebler cost."
   ]
  },
  {
   "cell_type": "code",
   "execution_count": 39,
   "metadata": {},
   "outputs": [
    {
     "name": "stderr",
     "output_type": "stream",
     "text": [
      "/home/dgallitelli/anaconda3/envs/SD-TSIA214/lib/python3.6/site-packages/ipykernel_launcher.py:35: RuntimeWarning: overflow encountered in power\n",
      "/home/dgallitelli/anaconda3/envs/SD-TSIA214/lib/python3.6/site-packages/ipykernel_launcher.py:35: RuntimeWarning: invalid value encountered in multiply\n"
     ]
    }
   ],
   "source": [
    "###### CUSTOM NMF IMPLEMENTATION ######\n",
    "# Multiplicative Update Rules for NMF #\n",
    "# estimation with beta divergences    #\n",
    "import numpy\n",
    "\n",
    "# TODO: translate slides 59 [beta-divergence] & 47 [error and special cases]\n",
    "\n",
    "def custom_NMF(V, K, W=None, H=None, steps=5000, alpha=0.0002, beta=0.02, toll=0.001):\n",
    "    \n",
    "    F = len(V) #Number of V rows\n",
    "    N = len(V[0]) #Number of V columns\n",
    "\n",
    "    if W is None:\n",
    "        W = numpy.random.rand(F,K)\n",
    "        \n",
    "    if H is None:\n",
    "        H = numpy.random.rand(K,N)\n",
    "        \n",
    "    if N != len(H[0]):\n",
    "        raise ValueError(\"Size for H[0] is different - found \"+str(len(H[0]))+\" in place of \"+str(N))\n",
    "    if F != len(W):\n",
    "        raise ValueError(\"Size for F is different - found \"+str(len(F))+\" in place of \"+str(N))\n",
    "    \n",
    "    for step in range(steps):\n",
    "#         for i in range(len(V)):\n",
    "#             for j in range(len(V[i])):\n",
    "#                 if V[i][j] > 0:\n",
    "#                     eij = V[i][j] - numpy.dot(W[i,:],H[:,j])\n",
    "                    #for k in range(K):\n",
    "                        # Translate here slide 59\n",
    "                        # H[k][j] = H[k][j] + alpha * (2 * eij * W[i][k] - beta * H[k][j])\n",
    "                        # W[i][k] = W[i][k] + alpha * (2 * eij * H[k][j] - beta * W[i][k])\n",
    "    \n",
    "        # Tests with whole matrix : multiply = O | dot = *\n",
    "        upd_UP = numpy.dot(W.T, numpy.multiply(pow(numpy.dot(W,H),beta-2), V))\n",
    "        upd_DOWN = numpy.dot(W.T, pow(numpy.dot(W,H),beta-1))\n",
    "        upd = upd_UP / upd_DOWN\n",
    "        H = numpy.multiply(H, upd)\n",
    "        \n",
    "        upd_UP = numpy.dot(numpy.multiply(pow(numpy.dot(W,H),beta-2), V),H.T)\n",
    "        upd_DOWN = numpy.dot(pow(numpy.dot(W,H),beta-1), H.T)\n",
    "        upd = upd_UP / upd_DOWN\n",
    "        W = numpy.multiply(W, upd)\n",
    "        \n",
    "        eV = numpy.dot(W,H)\n",
    "        e = 0\n",
    "        # Translate here slide 47 - e --> beta\n",
    "        for i in range(len(V)):\n",
    "            for j in range(len(V[i])):\n",
    "                if V[i][j] > 0:\n",
    "                    e = e + pow(V[i][j] - numpy.dot(W[i,:],H[:,j]), 2)\n",
    "                    for k in range(K):\n",
    "                        e = e + (beta/2) * ( pow(W[i][k],2) + pow(H[k][j],2) )\n",
    "        if e < toll:\n",
    "            break\n",
    "    return W, H\n",
    "\n",
    "#######\n",
    "\n",
    "if __name__ == \"__main__\":\n",
    "    V = [\n",
    "         [5,3,0,1],\n",
    "         [4,0,0,1],\n",
    "         [1,1,0,5],\n",
    "         [1,0,0,4],\n",
    "         [0,1,5,4],\n",
    "        ]\n",
    "\n",
    "    V = numpy.array(V) #F x N Source matrix\n",
    "    K = 2\n",
    "\n",
    "    W, H = custom_NMF(V, K)"
   ]
  },
  {
   "cell_type": "code",
   "execution_count": null,
   "metadata": {},
   "outputs": [],
   "source": [
    "##### TEST WITH SCIKIT-LEARN DATASET #####"
   ]
  }
 ],
 "metadata": {
  "kernelspec": {
   "display_name": "Python 3",
   "language": "python",
   "name": "python3"
  },
  "language_info": {
   "codemirror_mode": {
    "name": "ipython",
    "version": 3
   },
   "file_extension": ".py",
   "mimetype": "text/x-python",
   "name": "python",
   "nbconvert_exporter": "python",
   "pygments_lexer": "ipython3",
   "version": "3.6.5"
  }
 },
 "nbformat": 4,
 "nbformat_minor": 2
}
