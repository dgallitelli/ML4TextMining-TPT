{
 "cells": [
  {
   "cell_type": "markdown",
   "metadata": {},
   "source": [
    "# TP3 - Automatic Segmentation of Mails\n",
    "\n",
    "- Davide GALLITELLI \n",
    "- Carlotta CASTELLUCCIO\n",
    "\n",
    "___________________\n",
    "\n",
    "\n",
    "This Lab aims to build an email segmentation tool, dedicated to separate the email header from its\n",
    "body. It is proposed to perform this task by learning a HMM (A, B, $\\pi$) with two states, one (*state 1*) for\n",
    "the header, the other (*state 2*) for the body. In this model, it is assumed that each mail actually contains\n",
    "a header : the decoding necessarily begins in the state 1.\n",
    "\n",
    "Knowing that each mail contains exactly one header and one body, each mail follows once the transition\n",
    "from 1 to 2."
   ]
  },
  {
   "cell_type": "markdown",
   "metadata": {},
   "source": [
    "### Q1 : Give the value of the π vector of the initial probabilities\n",
    "\n",
    "$$\\pi^T = \n",
    "\\begin{bmatrix} \n",
    "1 \\\\ 0 \n",
    "\\end{bmatrix}\n",
    "$$\n",
    "\n",
    "Because the initial probability of being in the state 0 (header) is always true."
   ]
  },
  {
   "cell_type": "markdown",
   "metadata": {},
   "source": [
    "### Q2 : What is the probability to move from state 1 to state 2 ? What is the probability to remain in state 2 ? What is the lower/higher probability ? Try to explain why\n",
    "\n",
    "Given the matrix:\n",
    "\n",
    "$$ A = \\begin{bmatrix} \n",
    "0.999218078035812 & 0.000781921964187974 \\\\\n",
    "0 & 1\n",
    "\\end{bmatrix}$$\n",
    "\n",
    "The probability of moving from state 1 to state 2 is $P(2|1) = 0.000781921964187974$ ; the probability of state 2 is $P(2|2) = 1$ . \n",
    "\n",
    "It is normal for $P(2|2)$ to be higher, since once a character belonging to the *body* of the mail has been found, all the following observations will belong to the same state : no other *header* is found after the *body* in a mail."
   ]
  },
  {
   "cell_type": "markdown",
   "metadata": {},
   "source": [
    "### Q3 : What is the size of the corresponding matrix ?\n",
    "\n",
    "Because the ASCII characters are 256 ($N = 256$), the size of the corresponding matrix will be $256x2$, where each row represents the discrete probability distribution of the character *c* given the state *s*."
   ]
  },
  {
   "cell_type": "code",
   "execution_count": 1,
   "metadata": {
    "collapsed": false
   },
   "outputs": [],
   "source": [
    "import numpy as np\n",
    "\n",
    "# Viterbi - test\n",
    "O = range(0,256)\n",
    "S = [0,1]\n",
    "pi = [1,0]\n",
    "A = [[0.999218078035812, 0.000781921964187974],[0, 1]]\n",
    "B = np.loadtxt('P.text', dtype=float)"
   ]
  },
  {
   "cell_type": "code",
   "execution_count": 2,
   "metadata": {
    "collapsed": false
   },
   "outputs": [],
   "source": [
    "# Implementation of Viterbi algorithm\n",
    "\"\"\"\n",
    "Implementation of the Viterbi algorithm.\n",
    "Finds the best segmentation of the text provided, \n",
    "and returns the most probable states sequence\n",
    "Parameters explaination:\n",
    ":param O: = characters codification (ASCII, range(0,256))\n",
    ":param S: = possible states (header = 0, body = 1)\n",
    ":param A: = state transition probability matrix\n",
    ":param B: = matrix probability of character c being in state s (256x2, contained in P.text)\n",
    ":param pi: = initial probability vector\n",
    ":param Y: = observation in the mail (mail.dat)\n",
    ":return X: = most likely hidden state sequence\n",
    "\"\"\"\n",
    "def ViterbiAlgorithm(O, S, A, B, pi, Y):\n",
    "    A = np.matrix(A)\n",
    "    T = len(Y)\n",
    "    T1 = np.zeros((len(S), T))\n",
    "    T2 = np.zeros((len(S), T))\n",
    "    for s in S:\n",
    "        T1[s,0] = pi[s]*B[Y[0]][s] # vector of most likely path so far\n",
    "        T2[s,0] = 0 # most likely path for previous observation\n",
    "    for t in range(1,T):\n",
    "        for s in S:\n",
    "            result = [a*b*B[Y[t],s] for a,b in zip(T1[:, t-1],A[:,s])]\n",
    "            result += np.finfo(np.double).tiny\n",
    "            T1[s, t] = np.max(result)\n",
    "            T2[s, t] = np.argmax(result)\n",
    "#         Rescale output to solve too small number errors\n",
    "        T1[:,t] = T1[:,t]*(10**(-1*(int(np.log10(np.max(T1[:,t])))+1)))\n",
    "    Z = [0 for t in Y]\n",
    "    X = [0 for t in Y]\n",
    "    T = T - 1\n",
    "    Z[T] = int(np.argmax(T1[:,T]))\n",
    "    X[T] = S[Z[T]]\n",
    "    for i in range(T, 0, -1):\n",
    "        Z[i-1] = int(T2[Z[i], i])\n",
    "        X[i-1] = S[Z[i-1]]\n",
    "    return X"
   ]
  },
  {
   "cell_type": "markdown",
   "metadata": {},
   "source": [
    "### Q4: Print the track and present and discuss the results obtained on mail11.txt to mail30.txt"
   ]
  },
  {
   "cell_type": "code",
   "execution_count": 3,
   "metadata": {},
   "outputs": [
    {
     "name": "stdout",
     "output_type": "stream",
     "text": [
      "Observation size: 3475\n",
      "Expected change point in mail11.dat : ~2850\n",
      "Obtained change point : 2851\n"
     ]
    }
   ],
   "source": [
    "Y = np.loadtxt('dat/mail11.dat',dtype=int)\n",
    "\n",
    "X = ViterbiAlgorithm(O, S, A, B, pi, Y)\n",
    "print(\"Observation size: \"+str(len(Y)))\n",
    "print(\"Expected change point in mail11.dat : ~2850\")\n",
    "print(\"Obtained change point : \"+str(np.bincount(X)[0]))"
   ]
  },
  {
   "cell_type": "code",
   "execution_count": 4,
   "metadata": {
    "collapsed": true
   },
   "outputs": [
    {
     "name": "stdout",
     "output_type": "stream",
     "text": [
      "Observation size: 5160\n",
      "Expected change point in mail30.dat : ~2250\n",
      "Obtained change point : 2173\n"
     ]
    }
   ],
   "source": [
    "Y = np.loadtxt('dat/mail30.dat',dtype=int)\n",
    "\n",
    "X = ViterbiAlgorithm(O, S, A, B, pi, Y)\n",
    "print(\"Observation size: \"+str(len(Y)))\n",
    "print(\"Expected change point in mail30.dat : ~2250\")\n",
    "print(\"Obtained change point : \"+str(np.bincount(X)[0]))"
   ]
  },
  {
   "cell_type": "markdown",
   "metadata": {},
   "source": [
    "The results seem consistent with the expected values. The expected values have been obtained by opening with a text editor the mail*.txt files and counting the characters before the body. \n",
    "\n",
    "For *mail11.txt*, the delta in recognising the body is just one character from the expected value, which is great. For *mail30.txt*, the delta is a little bit higher, but nevertheless acceptable."
   ]
  },
  {
   "cell_type": "markdown",
   "metadata": {},
   "source": [
    "### Q5 : How would you model the problem if you had to segment the mails in more than two parts (for example : header, body, signature) ?\n",
    "\n",
    "The hidden model would not change: the changes to be done would be on the inputs. In particular, the states space would now have size of 3 (header = 0, body = 1, signature = 2), and therefore the vector of initial probabilities $\\pi$ would have 3 elements $$\\pi = (1,0,0)$$ the transition matrix `A` would have size `3x3`, with form:\n",
    "\n",
    "$$ A = \\begin{bmatrix} \n",
    "p_{11} & p_{12} & 0 \\\\\n",
    "0 & p_{22} & p_{23} \\\\\n",
    "0 & 0 & 1\n",
    "\\end{bmatrix}$$\n",
    "\n",
    "Even `B`, conditional probability of observation given the state, would change, becoming a matrix with size `256x3`."
   ]
  },
  {
   "cell_type": "markdown",
   "metadata": {},
   "source": [
    "### Q6 : How would you model the problem of separating the portions of mail included, knowing that they always start with the character \">\".\n",
    "\n",
    "We would then need a 4th state, *mail_included*, which comes before the *signature* of the mail. The inputs would change, including this 4th state: for example the transition matrix `A` would now be:\n",
    "\n",
    "$$ A = \\begin{bmatrix} \n",
    "p_{11} & p_{12} & p_{13} & 0 \\\\\n",
    "0 & p_{22} & p_{23} & p_{24}\\\\\n",
    "0 & p_{32} & p_{33} & p_{34}\\\\\n",
    "0 & 0 & 0 & 1\n",
    "\\end{bmatrix}$$\n",
    "\n",
    "with the initial probability vector $$\\pi = (1,0,0,0)$$\n",
    "\n",
    "Moreover, knowing that the mail included always starts with character \"*>*\", the probability of the character belonging to state 3 is higher than in the other states - this information should be included in the conditional probability matrix `B`."
   ]
  }
 ],
 "metadata": {
  "kernelspec": {
   "display_name": "Python 3",
   "language": "python",
   "name": "python3"
  },
  "language_info": {
   "codemirror_mode": {
    "name": "ipython",
    "version": 3
   },
   "file_extension": ".py",
   "mimetype": "text/x-python",
   "name": "python",
   "nbconvert_exporter": "python",
   "pygments_lexer": "ipython3",
   "version": "3.6.5"
  }
 },
 "nbformat": 4,
 "nbformat_minor": 2
}
